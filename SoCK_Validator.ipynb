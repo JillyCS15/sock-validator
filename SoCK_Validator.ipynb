{
  "nbformat": 4,
  "nbformat_minor": 0,
  "metadata": {
    "colab": {
      "name": "SoCK Validator.ipynb",
      "provenance": [],
      "collapsed_sections": [],
      "toc_visible": true
    },
    "kernelspec": {
      "name": "python3",
      "display_name": "Python 3"
    },
    "language_info": {
      "name": "python"
    }
  },
  "cells": [
    {
      "cell_type": "markdown",
      "source": [
        "# Preparation"
      ],
      "metadata": {
        "id": "F5A0bGqz0QGd"
      }
    },
    {
      "cell_type": "code",
      "execution_count": null,
      "metadata": {
        "id": "GoTaxpAs0OFa"
      },
      "outputs": [],
      "source": [
        "## If using Google Drive\n",
        "from google.colab import drive\n",
        "drive.mount('/content/drive')"
      ]
    },
    {
      "cell_type": "code",
      "source": [
        "# install dependencies\n",
        "\n",
        "!pip install pyshacl\n",
        "!pip install rdflib\n",
        "!pip install sparqlwrapper\n",
        "\n",
        "import regex as re\n",
        "import time\n",
        "\n",
        "import pandas as pd\n",
        "import matplotlib.pyplot as plt\n",
        "import seaborn as sns\n",
        "import plotly.express as px\n",
        "\n",
        "from pyshacl import validate\n",
        "from rdflib import Graph, URIRef, BNode, Literal \n",
        "from SPARQLWrapper import SPARQLWrapper, JSON\n",
        "from tqdm import tqdm"
      ],
      "metadata": {
        "id": "b4SnsS4_ucTP"
      },
      "execution_count": null,
      "outputs": []
    },
    {
      "cell_type": "markdown",
      "source": [
        "# Data Collection"
      ],
      "metadata": {
        "id": "miv9s4xt0SOe"
      }
    },
    {
      "cell_type": "code",
      "source": [
        "def query_sparql(query, sparql_endpoint):\n",
        "  \"\"\"\n",
        "  Query to certain SPARQL endpoint, such as Wikidata SPARQL.\n",
        "\n",
        "  Parameters\n",
        "  ----------\n",
        "  query : str\n",
        "    A SPARQL query to be run\n",
        "  sparql_endpoint : str\n",
        "    A SPARQL API endpoint \n",
        "\n",
        "  Returns\n",
        "  -------\n",
        "  DataFrame\n",
        "    A table consisting of instances to be validated\n",
        "  \"\"\"\n",
        "\n",
        "  # set up the query\n",
        "  sparqlwd = SPARQLWrapper(sparql_endpoint)\n",
        "  sparqlwd.setQuery(query)\n",
        "  sparqlwd.setReturnFormat(JSON)\n",
        "\n",
        "  # get the data and transform the result into pandas dataframe\n",
        "  while True:\n",
        "    try:\n",
        "      results = sparqlwd.query().convert()\n",
        "      results_df = pd.json_normalize(results['results']['bindings'])\n",
        "      break\n",
        "    except:\n",
        "      continue\n",
        "  \n",
        "  # return the result in dataframe\n",
        "  return results_df"
      ],
      "metadata": {
        "id": "iAXYXepmuYzf"
      },
      "execution_count": null,
      "outputs": []
    },
    {
      "cell_type": "markdown",
      "source": [
        "First of all, get all the entities which will be validated using SHACL."
      ],
      "metadata": {
        "id": "PQGm6ZEbu9tm"
      }
    },
    {
      "cell_type": "code",
      "source": [
        "# replace the query as you defined below\n",
        "query = \"\"\"\n",
        "...\n",
        "\"\"\"\n",
        "\n",
        "# example: retrieve all instances of Country class with a limit of 1000\n",
        "query = \"\"\"\n",
        "SELECT DISTINCT ?entity\n",
        "WHERE {\n",
        "    ?entity a dbo:Country .\n",
        "}\n",
        "LIMIT 1000\n",
        "\"\"\"\n",
        "\n",
        "# execute the query using query_sparql function\n",
        "data = query_sparql(query, \"http://dbpedia.org/sparql\")\n",
        "data.to_csv(\"DEFINED/PATH\", index=False)\n",
        "data.head()"
      ],
      "metadata": {
        "id": "fiCBvBRn0TvK"
      },
      "execution_count": null,
      "outputs": []
    },
    {
      "cell_type": "markdown",
      "source": [
        "Then, get all the required property values for all entities."
      ],
      "metadata": {
        "id": "1PORjygDvLvQ"
      }
    },
    {
      "cell_type": "code",
      "source": [
        "def get_data_prop(df, prop_list, window_size, sparql_endpoint):\n",
        "  \"\"\"\n",
        "  Query the property value given all the instances to be validated.\n",
        "\n",
        "  Parameters\n",
        "  ----------\n",
        "  df : DataFrame\n",
        "    A table containing all the instances to be validated\n",
        "  prop_list : list\n",
        "    A list of properties to be checked\n",
        "  window_size : int\n",
        "    A number of data instances used in one query\n",
        "  sparql_endpoint : str\n",
        "    A SPARQL API endpoint \n",
        "\n",
        "  Returns\n",
        "  -------\n",
        "  DataFrame\n",
        "    A table consisting of all the properties of instances along with their values\n",
        "  \"\"\"\n",
        "\n",
        "  # initiate the variables\n",
        "  size = df.shape[0]\n",
        "  list_data = []\n",
        "\n",
        "  for prop in prop_list:\n",
        "    # initiate index\n",
        "    idx_lower = 0\n",
        "    idx_upper = window_size\n",
        "\n",
        "    # window-looping through length of data\n",
        "    while idx_lower <= size:\n",
        "      if idx_upper > size:\n",
        "        idx_upper = size\n",
        "\n",
        "      # check the index\n",
        "      print(idx_lower, idx_upper)\n",
        "\n",
        "      while True:\n",
        "        try:\n",
        "          query = f\"\"\"\n",
        "SELECT ?s ?p ?o\n",
        "WHERE {{\n",
        "  VALUES ?s {{{' '.join(data['entity'][idx_lower:idx_upper]) }}}\n",
        "  BIND({prop} AS ?p)\n",
        "  ?s ?p ?o .\n",
        "}}\n",
        "\"\"\"\n",
        "          res = query_sparql(query, sparql_endpoint)\n",
        "          list_data.append(res)\n",
        "\n",
        "        except:\n",
        "          time.sleep(5)\n",
        "          continue\n",
        "\n",
        "        # update idx\n",
        "        idx_lower += window_size\n",
        "        idx_upper += window_size\n",
        "\n",
        "        break\n",
        "\n",
        "  return pd.concat(list_data, ignore_index=True, sort=False)"
      ],
      "metadata": {
        "id": "PI_Ll2hdvSsw"
      },
      "execution_count": null,
      "outputs": []
    },
    {
      "cell_type": "code",
      "source": [
        "# initiate data and variable before function call\n",
        "data['entity'] = data['entity.value'].apply(lambda x: f\"<{x}>\")\n",
        "# SPARQL endpoint URL i.e. http://dbpedia.org/sparql\n",
        "endpoint = \"...\"\n",
        "# list all the property to be visualized\n",
        "prop_list = ['...']\n",
        "\n",
        "# execute the query to get all the property value\n",
        "data_prop = get_data_prop(data, prop_list, 50, endpoint)"
      ],
      "metadata": {
        "id": "w9iQKcxvvUe0"
      },
      "execution_count": null,
      "outputs": []
    },
    {
      "cell_type": "markdown",
      "source": [
        "# Shapes Generation"
      ],
      "metadata": {
        "id": "Z6HFH90e0UB3"
      }
    },
    {
      "cell_type": "markdown",
      "source": [
        "## Manual"
      ],
      "metadata": {
        "id": "rZqHzQFqvZkl"
      }
    },
    {
      "cell_type": "code",
      "source": [
        "shapes_graph = \\\n",
        "\"\"\"\n",
        "...\n",
        "\"\"\"\n",
        "\n",
        "# example: the shapes graph to check all instances of Country class should\n",
        "# have a label and description property\n",
        "shapes_graph = \\\n",
        "\"\"\"\n",
        "@prefix : <http://example.org/ns#> .\n",
        "@prefix dash: <http://datashapes.org/dash#> .\n",
        "@prefix dbo: <http://dbpedia.org/ontology/> .\n",
        "@prefix dbp: <http://dbpedia.org/property/> .\n",
        "@prefix dbr: <http://dbpedia.org/resource/> .\n",
        "@prefix dct: <http://purl.org/dc/terms/> .\n",
        "@prefix ex: <http://example.org/ns#> .\n",
        "@prefix foaf: <http://xmlns.com/foaf/0.1/> .\n",
        "@prefix geo: <http://www.opengis.net/ont/geosparql#> .\n",
        "@prefix owl: <http://www.w3.org/2002/07/owl#> .\n",
        "@prefix rdf: <http://www.w3.org/1999/02/22-rdf-syntax-ns#> .\n",
        "@prefix rdfs: <http://www.w3.org/2000/01/rdf-schema#> .\n",
        "@prefix schema: <http://schema.org/> .\n",
        "@prefix sh: <http://www.w3.org/ns/shacl#> .\n",
        "@prefix skos: <http://www.w3.org/2004/02/skos/core#> .\n",
        "@prefix xsd: <http://www.w3.org/2001/XMLSchema#> .\n",
        "@prefix wd: <http://www.wikidata.org/entity/> .\n",
        "@prefix wdt: <http://www.wikidata.org/prop/direct/> .\n",
        "\n",
        "ex:CountryLabelDescriptionShape\n",
        "    a sh:NodeShape;\n",
        "    sh:targetClass dbo:Country ;\n",
        "    sh:property [\n",
        "        sh:path rdfs:label ;\n",
        "        sh:minCount 1 ;\n",
        "    ] ;\n",
        "    sh:property [\n",
        "        sh:path rdfs:comment ;\n",
        "        sh:minCount 1 ;\n",
        "    ] ;\n",
        "    sh:property [\n",
        "        sh:path dbo:abstract ;\n",
        "        sh:minCount 1 ;\n",
        "    ] .\n",
        "\"\"\""
      ],
      "metadata": {
        "id": "oT5EzkFL0g8-"
      },
      "execution_count": null,
      "outputs": []
    },
    {
      "cell_type": "code",
      "source": [
        "# save the shapes graph\n",
        "with open(\"DEFINED/PATH\", \"w\") as text_file:\n",
        "    print(shapes_graph, file=text_file)"
      ],
      "metadata": {
        "id": "AWKyRTKdTmRT"
      },
      "execution_count": null,
      "outputs": []
    },
    {
      "cell_type": "markdown",
      "source": [
        "## Automated"
      ],
      "metadata": {
        "id": "IznZPLm9vbb4"
      }
    },
    {
      "cell_type": "code",
      "source": [
        "prefixes = \"\"\"\n",
        "@prefix : <http://example.org/ns#> .\n",
        "@prefix dash: <http://datashapes.org/dash#> .\n",
        "@prefix dbc: <http://dbpedia.org/resource/Category:> .\n",
        "@prefix dbo: <http://dbpedia.org/ontology/> .\n",
        "@prefix dbp: <http://dbpedia.org/property/> .\n",
        "@prefix dbr: <http://dbpedia.org/resource/> .\n",
        "@prefix dct: <http://purl.org/dc/terms/> .\n",
        "@prefix ex: <http://example.org/ns#> .\n",
        "@prefix foaf: <http://xmlns.com/foaf/0.1/> .\n",
        "@prefix geo: <http://www.opengis.net/ont/geosparql#> .\n",
        "@prefix owl: <http://www.w3.org/2002/07/owl#> .\n",
        "@prefix person: <http://dbpedia.org/ontology/Person> .\n",
        "@prefix rdf: <http://www.w3.org/1999/02/22-rdf-syntax-ns#> .\n",
        "@prefix rdfs: <http://www.w3.org/2000/01/rdf-schema#> .\n",
        "@prefix schema: <http://schema.org/> .\n",
        "@prefix sh: <http://www.w3.org/ns/shacl#> .\n",
        "@prefix skos: <http://www.w3.org/2004/02/skos/core#> .\n",
        "@prefix sock: <https://cs.ui.ac.id/ns/sock#> .\n",
        "@prefix xsd: <http://www.w3.org/2001/XMLSchema#> .\n",
        "@prefix wd: <http://www.wikidata.org/entity/> .\n",
        "@prefix wdt: <http://www.wikidata.org/prop/direct/> .\n",
        "\"\"\""
      ],
      "metadata": {
        "id": "_w5ZMRFRvdIM"
      },
      "execution_count": null,
      "outputs": []
    },
    {
      "cell_type": "code",
      "source": [
        "def construct_property_shape(props):\n",
        "  \"\"\"\n",
        "  Construct the property shape.\n",
        "\n",
        "  Parameters\n",
        "  ----------\n",
        "  props : list\n",
        "    A list of properties used to create property shape\n",
        "\n",
        "  Returns\n",
        "  -------\n",
        "  (str, list)\n",
        "    A string of property shapes, a list of property shapes' name\n",
        "  \"\"\"\n",
        "\n",
        "  # required variable initiation\n",
        "  list_prop_shape_name = []\n",
        "  property_shape = ''\n",
        "\n",
        "  # construct the property shape by iterates over props and props_label\n",
        "  for prop in props:\n",
        "\n",
        "    # clean the prop_label text\n",
        "    prop_label = prop[0].upper() + prop[1:]\n",
        "    property_shape_name = prop_label + \"PropertyShape\"\n",
        "\n",
        "    # property shape template\n",
        "    property_shape_pattern = \\\n",
        "f\"\"\"\n",
        "ex:{property_shape_name} a sh:PropertyShape ;\n",
        "    sh:path dbo:{prop} ;\n",
        "    sh:minCount 1 .\n",
        "\"\"\"\n",
        "\n",
        "    # property shape formatting\n",
        "    property_shape += property_shape_pattern\n",
        "    list_prop_shape_name.append(property_shape_name)\n",
        "\n",
        "  return property_shape, list_prop_shape_name"
      ],
      "metadata": {
        "id": "q8qy8a8VVTvy"
      },
      "execution_count": null,
      "outputs": []
    },
    {
      "cell_type": "code",
      "source": [
        "def construct_node_shape(cls, node_shape_name, list_prop_shape_name):\n",
        "  \"\"\"\n",
        "  Construct the node shape.\n",
        "\n",
        "  Parameters\n",
        "  ----------\n",
        "  cls : str\n",
        "    A class name as a node shape target \n",
        "  node_shape_name : str\n",
        "    A name for a node shape\n",
        "  list_prop_shape_name : list\n",
        "    A list of property shape name\n",
        "\n",
        "  Returns\n",
        "  -------\n",
        "  (str, str)\n",
        "    A string of node shape, a string of node shape's name\n",
        "  \"\"\"\n",
        "\n",
        "  # revise the properties by adding their prefixes\n",
        "  list_property_shape = ['ex:' + prop for prop in list_prop_shape_name]\n",
        "  list_property_shape = ', \\n\\t\\t'.join(list_property_shape)\n",
        "\n",
        "  # node shape template\n",
        "  node_shape = \\\n",
        "f\"\"\"\n",
        "ex:{node_shape_name}Shape\n",
        "    a sh:NodeShape ;\n",
        "    sh:targetClass dbo:{cls} ;\n",
        "    sh:property {list_property_shape} .\n",
        "\"\"\"\n",
        "\n",
        "  return node_shape, node_shape_name"
      ],
      "metadata": {
        "id": "kPgWq97IVoBS"
      },
      "execution_count": null,
      "outputs": []
    },
    {
      "cell_type": "code",
      "source": [
        "# create property shape\n",
        "prop_list = [prop.split(\"/\")[-1] for prop in prop['p.value']]\n",
        "property_shape, list_prop_shape_name = construct_property_shape(prop_list)\n",
        "\n",
        "# create node_shape\n",
        "node_shape, node_shape_name = construct_node_shape(\"Country\",\n",
        "                                                   \"CountrySchemaShapes\",\n",
        "                                                   list_prop_shape_name)\n",
        "\n",
        "shapes_graph = prefixes + node_shape + property_shape\n",
        "\n",
        "with open(\"DEFINED/PATH\", \"w\") as text_file:\n",
        "    print(shapes_graph, file=text_file)"
      ],
      "metadata": {
        "id": "A3Up4Ct5WdbH"
      },
      "execution_count": null,
      "outputs": []
    },
    {
      "cell_type": "markdown",
      "source": [
        "# Data Validation"
      ],
      "metadata": {
        "id": "hg5SNjYv0hgl"
      }
    },
    {
      "cell_type": "code",
      "source": [
        "# load data containing all the property values for the entities\n",
        "data_prop = pd.read_csv(\"DEFINED/PATH\")\n",
        "\n",
        "# handle NaN values in language attribute\n",
        "# if there is no column \"o.xml:lang\", just skip it\n",
        "data_prop[['o.xml:lang']] = data_prop[['o.xml:lang']].fillna('not specified')\n",
        "\n",
        "# convert data into data graph\n",
        "data_graph = Graph()\n",
        "\n",
        "# add instance relation for all entities\n",
        "# only used for checking with target for a certain class\n",
        "# if not, just skip it\n",
        "for _, row in data.iterrows():\n",
        "  s = URIRef(row['entity.value'])\n",
        "  p = URIRef('http://www.w3.org/1999/02/22-rdf-syntax-ns#type')\n",
        "  o = URIRef('http://dbpedia.org/ontology/Country') # example: Country class\n",
        "  data_graph.add((s, p, o))\n",
        "\n",
        "# add node-property relation for all entities\n",
        "for _, row in data_prop.iterrows():\n",
        "  s = URIRef(row['s.value'])\n",
        "  p = URIRef(row['p.value'])\n",
        "  if row['o.type'] == 'literal':\n",
        "    if row['o.xml:lang'] == 'not specified':\n",
        "      o = o = Literal(row['o.value'])\n",
        "    else:\n",
        "      o = Literal(row['o.value'], lang=row['o.xml:lang'])\n",
        "  elif row['o.type'] == 'typed-literal':\n",
        "    o = Literal(row['o.value'], datatype=row['o.datatype'])\n",
        "  else:\n",
        "    o = URIRef(row['o.value'])\n",
        "  data_graph.add((s, p, o))"
      ],
      "metadata": {
        "id": "kKPM_8uP0l6d"
      },
      "execution_count": null,
      "outputs": []
    },
    {
      "cell_type": "code",
      "source": [
        "# load shapes graph\n",
        "shapes_graph = Graph()\n",
        "shapes_file = \"DEFINED/PATH\"\n",
        "shapes_graph.parse(shapes_file)"
      ],
      "metadata": {
        "id": "1wtb3Z1Vvpqz"
      },
      "execution_count": null,
      "outputs": []
    },
    {
      "cell_type": "code",
      "source": [
        "def validate_graph(shapes_graph, data_graph, is_advanced=False):\n",
        "  \"\"\"\n",
        "  Validate the data graph over the shapes graph with the SHACL engine provided by PySHACL.\n",
        "  \n",
        "  Parameters\n",
        "  ----------\n",
        "  shapes_graph : Graph\n",
        "    The shapes graph containing all the constraints\n",
        "  data_graph : Graph\n",
        "    The data graph containing all the instances to be validated along with their property values\n",
        "  is_advanced : boolean, optional\n",
        "    ...\n",
        "\n",
        "  Returns\n",
        "  -------\n",
        "  (bool, Graph, str)\n",
        "    value of conformation, validation report in the shape of a graph, and\n",
        "    validation report in the shape of a text\n",
        "  \"\"\"\n",
        "\n",
        "  result = validate(\n",
        "    data_graph = data_graph,\n",
        "    shacl_graph = shapes_graph,\n",
        "    advanced = is_advanced,\n",
        "    serialize_report_graph=\"ttl\",\n",
        "    )\n",
        "  \n",
        "  return result\n",
        "\n",
        "# validate the data graph\n",
        "conforms, report_graph, report_text = validate_graph(shapes_graph, data_graph)"
      ],
      "metadata": {
        "id": "yaPNonzjvrHA"
      },
      "execution_count": null,
      "outputs": []
    },
    {
      "cell_type": "code",
      "source": [
        "def create_report_validation(df, use_col, report_graph, prop_list):\n",
        "  \"\"\"\n",
        "  Transform validation result from a form of graph to a form of table (Pandas dataframe).\n",
        "\n",
        "  Parameters\n",
        "  ----------\n",
        "  df : DataFrame\n",
        "    A table containing all the instances to be validated\n",
        "  use_col : list\n",
        "    A sublist of the variable list_prop used for lookup through the report graph \n",
        "  report_graph : Graph\n",
        "    A validation report in the shape of graph as a result of SHACL validation\n",
        "  prop_list : list\n",
        "    A list of property to be checked\n",
        "\n",
        "  Returns\n",
        "  -------\n",
        "  DataFrame\n",
        "    A table consisting of instances with the value of validation\n",
        "  \"\"\"\n",
        "\n",
        "  report = Graph()\n",
        "  report.parse(data=report_graph)\n",
        "\n",
        "  # list all incompleteness\n",
        "  list_incomplete = []\n",
        "\n",
        "  for prop in prop_list:\n",
        "    report_query = f\"\"\"\n",
        "PREFIX dbo: <http://dbpedia.org/ontology/>\n",
        "SELECT ?focusNode\n",
        "WHERE {{\n",
        "[] <http://www.w3.org/ns/shacl#result> ?id .\n",
        "?id <http://www.w3.org/ns/shacl#focusNode> ?focusNode ;\n",
        "    <http://www.w3.org/ns/shacl#resultPath> {prop} .\n",
        "}}\n",
        "\"\"\"\n",
        "    res = report.query(report_query)\n",
        "\n",
        "    list_entities = []\n",
        "    for row in res:\n",
        "      list_entities.append([str(row.focusNode), 0])\n",
        "\n",
        "    list_incomplete.append(list_entities)\n",
        "\n",
        "  # convert to dict of incompleteness\n",
        "  validation = df[[use_col]]\n",
        "  incomplete_dict = dict()\n",
        "\n",
        "  for idx, prop in enumerate(prop_list):\n",
        "    incomplete_dict[f\"df_incomplete_{prop}\"] = pd.DataFrame(list_incomplete[idx], columns=[use_col, prop])\n",
        "\n",
        "  # merge the information\n",
        "  for key in incomplete_dict.keys():\n",
        "    validation = pd.merge(validation, incomplete_dict[key], on=use_col, how='left').fillna(1)\n",
        "\n",
        "  validation['complete_all'] = validation.iloc[:,1:].sum(axis=1)/len(prop_list)\n",
        "\n",
        "  return validation\n",
        "\n",
        "prop_list = ['rdfs:label', 'rdfs:comment', 'dbo:abstract']\n",
        "validation = create_report_validation(data, \"entity.value\", report_graph, prop_list)\n",
        "validation.to_csv(path+\"DBP-LDC01M-20220518-Country-validation.csv\", index=False)"
      ],
      "metadata": {
        "id": "8lXjIlcnvvHH"
      },
      "execution_count": null,
      "outputs": []
    },
    {
      "cell_type": "markdown",
      "source": [
        "# Visualization"
      ],
      "metadata": {
        "id": "Th1hWKSD0mYR"
      }
    },
    {
      "cell_type": "code",
      "source": [
        "def create_completeness_info_viz(validation, prop_list, title):\n",
        "  \"\"\"\n",
        "  Visualize the result validation\n",
        "\n",
        "  Parameters\n",
        "  ----------\n",
        "  validation : DataFrame\n",
        "    A table consisting of validated instances\n",
        "  prop_list : list\n",
        "    A list of properties to be checked\n",
        "  title : str\n",
        "    A title to be shown in the chart\n",
        "  \"\"\"\n",
        "\n",
        "  # transform validation data into suitable one for the chart\n",
        "  res_list = []\n",
        "  for prop in prop_list:\n",
        "    res = validation[prop].value_counts(normalize=True).rename_axis('label').reset_index(name='percentage')\n",
        "    res['property'] = prop\n",
        "    res_list.append(res)\n",
        "\n",
        "  comp_summary = pd.concat(res_list, ignore_index=True, sort=False)\n",
        "\n",
        "  # transform value of 1 and 0\n",
        "  dict_map = {1: 'Complete', 0: 'Incomplete'}\n",
        "  comp_summary['label'] = comp_summary['label'].map(dict_map)\n",
        "\n",
        "  # create stacked bar plot\n",
        "  fig = px.bar(comp_summary,\n",
        "             x='percentage',\n",
        "             y='property',\n",
        "             color='label',\n",
        "             title=title)\n",
        "\n",
        "  # adjust plot layout\n",
        "  fig.update_layout(\n",
        "      autosize=False,\n",
        "      width=800,\n",
        "      height=100*len(prop_list) if len(prop_list) > 3 else 300,\n",
        "      xaxis = dict(\n",
        "          tickmode = 'array',\n",
        "          tickvals = [0, 0.2, 0.4, 0.6, 0.8, 1],\n",
        "          ticktext = ['0%', '20%', '40%', '60%', '80%', '100%']\n",
        "      ))\n",
        "\n",
        "  fig.show()\n",
        "\n",
        "# list all the property to be visualized\n",
        "prop_list = ['...']\n",
        "# prop_list = ['rdfs:label', 'rdfs:comment', 'dbo:abstract'] # example\n",
        "\n",
        "\n",
        "create_completeness_info_viz(validation,\n",
        "                             prop_list,\n",
        "                             '...',) # insert title"
      ],
      "metadata": {
        "id": "V2sXgYLY0qGn"
      },
      "execution_count": null,
      "outputs": []
    }
  ]
}