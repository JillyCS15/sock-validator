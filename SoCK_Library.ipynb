{
  "cells": [
    {
      "cell_type": "markdown",
      "metadata": {
        "id": "F5A0bGqz0QGd"
      },
      "source": [
        "# Preparation"
      ]
    },
    {
      "cell_type": "code",
      "execution_count": null,
      "metadata": {
        "id": "GoTaxpAs0OFa"
      },
      "outputs": [],
      "source": [
        "## If using Google Drive\n",
        "from google.colab import drive\n",
        "drive.mount('/content/drive')"
      ]
    },
    {
      "cell_type": "code",
      "execution_count": null,
      "metadata": {
        "id": "0wZM8GKGaPpG"
      },
      "outputs": [],
      "source": [
        "# install dependencies\n",
        "\n",
        "!pip install pyshacl\n",
        "!pip install rdflib\n",
        "!pip install sparqlwrapper\n",
        "!pip install regex\n",
        "!pip install seaborn\n",
        "!pip install plotly\n",
        "!pip install tqdm"
      ]
    },
    {
      "cell_type": "code",
      "execution_count": null,
      "metadata": {
        "colab": {
          "base_uri": "https://localhost:8080/"
        },
        "id": "b4SnsS4_ucTP",
        "outputId": "5f611ee7-dab6-41ed-9b2b-f0062874b0d5"
      },
      "outputs": [
        {
          "name": "stdout",
          "output_type": "stream",
          "text": [
            "Looking in indexes: https://pypi.org/simple, https://us-python.pkg.dev/colab-wheels/public/simple/\n",
            "Collecting pyshacl\n",
            "  Downloading pyshacl-0.19.1-py3-none-any.whl (1.2 MB)\n",
            "\u001b[K     |████████████████████████████████| 1.2 MB 4.8 MB/s \n",
            "\u001b[?25hCollecting owlrl<7,>=6.0.2\n",
            "  Downloading owlrl-6.0.2-py3-none-any.whl (54 kB)\n",
            "\u001b[K     |████████████████████████████████| 54 kB 2.2 MB/s \n",
            "\u001b[?25hCollecting rdflib<8,>=6.1.1\n",
            "  Downloading rdflib-6.1.1-py3-none-any.whl (482 kB)\n",
            "\u001b[K     |████████████████████████████████| 482 kB 32.7 MB/s \n",
            "\u001b[?25hRequirement already satisfied: packaging>=21.3 in /usr/local/lib/python3.7/dist-packages (from pyshacl) (21.3)\n",
            "Collecting prettytable<3.0.0,>=2.2.1\n",
            "  Downloading prettytable-2.5.0-py3-none-any.whl (24 kB)\n",
            "Requirement already satisfied: pyparsing!=3.0.5,>=2.0.2 in /usr/local/lib/python3.7/dist-packages (from packaging>=21.3->pyshacl) (3.0.9)\n",
            "Requirement already satisfied: wcwidth in /usr/local/lib/python3.7/dist-packages (from prettytable<3.0.0,>=2.2.1->pyshacl) (0.2.5)\n",
            "Requirement already satisfied: importlib-metadata in /usr/local/lib/python3.7/dist-packages (from prettytable<3.0.0,>=2.2.1->pyshacl) (4.12.0)\n",
            "Requirement already satisfied: setuptools in /usr/local/lib/python3.7/dist-packages (from rdflib<8,>=6.1.1->pyshacl) (57.4.0)\n",
            "Collecting isodate\n",
            "  Downloading isodate-0.6.1-py2.py3-none-any.whl (41 kB)\n",
            "\u001b[K     |████████████████████████████████| 41 kB 467 kB/s \n",
            "\u001b[?25hRequirement already satisfied: typing-extensions>=3.6.4 in /usr/local/lib/python3.7/dist-packages (from importlib-metadata->prettytable<3.0.0,>=2.2.1->pyshacl) (4.1.1)\n",
            "Requirement already satisfied: zipp>=0.5 in /usr/local/lib/python3.7/dist-packages (from importlib-metadata->prettytable<3.0.0,>=2.2.1->pyshacl) (3.8.0)\n",
            "Requirement already satisfied: six in /usr/local/lib/python3.7/dist-packages (from isodate->rdflib<8,>=6.1.1->pyshacl) (1.15.0)\n",
            "Installing collected packages: isodate, rdflib, prettytable, owlrl, pyshacl\n",
            "  Attempting uninstall: prettytable\n",
            "    Found existing installation: prettytable 3.3.0\n",
            "    Uninstalling prettytable-3.3.0:\n",
            "      Successfully uninstalled prettytable-3.3.0\n",
            "Successfully installed isodate-0.6.1 owlrl-6.0.2 prettytable-2.5.0 pyshacl-0.19.1 rdflib-6.1.1\n",
            "Looking in indexes: https://pypi.org/simple, https://us-python.pkg.dev/colab-wheels/public/simple/\n",
            "Requirement already satisfied: rdflib in /usr/local/lib/python3.7/dist-packages (6.1.1)\n",
            "Requirement already satisfied: isodate in /usr/local/lib/python3.7/dist-packages (from rdflib) (0.6.1)\n",
            "Requirement already satisfied: pyparsing in /usr/local/lib/python3.7/dist-packages (from rdflib) (3.0.9)\n",
            "Requirement already satisfied: importlib-metadata in /usr/local/lib/python3.7/dist-packages (from rdflib) (4.12.0)\n",
            "Requirement already satisfied: setuptools in /usr/local/lib/python3.7/dist-packages (from rdflib) (57.4.0)\n",
            "Requirement already satisfied: typing-extensions>=3.6.4 in /usr/local/lib/python3.7/dist-packages (from importlib-metadata->rdflib) (4.1.1)\n",
            "Requirement already satisfied: zipp>=0.5 in /usr/local/lib/python3.7/dist-packages (from importlib-metadata->rdflib) (3.8.0)\n",
            "Requirement already satisfied: six in /usr/local/lib/python3.7/dist-packages (from isodate->rdflib) (1.15.0)\n",
            "Looking in indexes: https://pypi.org/simple, https://us-python.pkg.dev/colab-wheels/public/simple/\n",
            "Collecting sparqlwrapper\n",
            "  Downloading SPARQLWrapper-2.0.0-py3-none-any.whl (28 kB)\n",
            "Requirement already satisfied: rdflib>=6.1.1 in /usr/local/lib/python3.7/dist-packages (from sparqlwrapper) (6.1.1)\n",
            "Requirement already satisfied: isodate in /usr/local/lib/python3.7/dist-packages (from rdflib>=6.1.1->sparqlwrapper) (0.6.1)\n",
            "Requirement already satisfied: importlib-metadata in /usr/local/lib/python3.7/dist-packages (from rdflib>=6.1.1->sparqlwrapper) (4.12.0)\n",
            "Requirement already satisfied: setuptools in /usr/local/lib/python3.7/dist-packages (from rdflib>=6.1.1->sparqlwrapper) (57.4.0)\n",
            "Requirement already satisfied: pyparsing in /usr/local/lib/python3.7/dist-packages (from rdflib>=6.1.1->sparqlwrapper) (3.0.9)\n",
            "Requirement already satisfied: zipp>=0.5 in /usr/local/lib/python3.7/dist-packages (from importlib-metadata->rdflib>=6.1.1->sparqlwrapper) (3.8.0)\n",
            "Requirement already satisfied: typing-extensions>=3.6.4 in /usr/local/lib/python3.7/dist-packages (from importlib-metadata->rdflib>=6.1.1->sparqlwrapper) (4.1.1)\n",
            "Requirement already satisfied: six in /usr/local/lib/python3.7/dist-packages (from isodate->rdflib>=6.1.1->sparqlwrapper) (1.15.0)\n",
            "Installing collected packages: sparqlwrapper\n",
            "Successfully installed sparqlwrapper-2.0.0\n"
          ]
        }
      ],
      "source": [
        "# import all the modules\n",
        "import regex as re\n",
        "import time\n",
        "\n",
        "import pandas as pd\n",
        "import matplotlib.pyplot as plt\n",
        "import seaborn as sns\n",
        "import plotly.express as px\n",
        "\n",
        "from pyshacl import validate\n",
        "from rdflib import Graph, URIRef, BNode, Literal \n",
        "from SPARQLWrapper import SPARQLWrapper, JSON\n",
        "from tqdm import tqdm"
      ]
    },
    {
      "cell_type": "markdown",
      "metadata": {
        "id": "miv9s4xt0SOe"
      },
      "source": [
        "# Data Collection"
      ]
    },
    {
      "cell_type": "code",
      "execution_count": null,
      "metadata": {
        "id": "iAXYXepmuYzf"
      },
      "outputs": [],
      "source": [
        "def query_sparql(query, sparql_endpoint):\n",
        "  \"\"\"\n",
        "  Query to certain SPARQL endpoint, such as Wikidata SPARQL.\n",
        "\n",
        "  Parameters\n",
        "  ----------\n",
        "  query : str\n",
        "    A SPARQL query to be run\n",
        "  sparql_endpoint : str\n",
        "    A SPARQL API endpoint \n",
        "\n",
        "  Returns\n",
        "  -------\n",
        "  DataFrame\n",
        "    A table consisting of instances to be validated\n",
        "  \"\"\"\n",
        "\n",
        "  # set up the query\n",
        "  sparql = SPARQLWrapper(sparql_endpoint)\n",
        "  sparql.setQuery(query)\n",
        "  sparql.setReturnFormat(JSON)\n",
        "\n",
        "  # get the data and transform the result into pandas dataframe\n",
        "  while True:\n",
        "    try:\n",
        "      results = sparql.query().convert()\n",
        "      results_df = pd.json_normalize(results['results']['bindings'])\n",
        "      break\n",
        "    except:\n",
        "      continue\n",
        "  \n",
        "  # return the result in dataframe\n",
        "  return results_df"
      ]
    },
    {
      "cell_type": "markdown",
      "metadata": {
        "id": "PQGm6ZEbu9tm"
      },
      "source": [
        "First of all, get all the entities which will be validated using SHACL."
      ]
    },
    {
      "cell_type": "code",
      "execution_count": null,
      "metadata": {
        "id": "fiCBvBRn0TvK"
      },
      "outputs": [],
      "source": [
        "# replace the query as you defined below\n",
        "query = \"\"\"\n",
        "...\n",
        "\"\"\"\n",
        "\n",
        "# example: retrieve all instances of Country class with a limit of 100\n",
        "# uncomment this to try\n",
        "\n",
        "# query = \"\"\"\n",
        "# SELECT DISTINCT ?entity\n",
        "# WHERE {\n",
        "#     ?entity a dbo:Country .\n",
        "# }\n",
        "# LIMIT 100\n",
        "# \"\"\"\n",
        "\n",
        "# execute the query using query_sparql function\n",
        "# The SPARQL endpoint can be changed, such as https://query.wikidata.org/\n",
        "data = query_sparql(query, \"http://dbpedia.org/sparql\")\n",
        "data['entity'] = data['entity.value'].apply(lambda x: f\"<{x}>\")\n",
        "\n",
        "# save the result of the query, the filename can be changed as needed\n",
        "data.to_csv(\"data.csv\", index=False)\n",
        "data.head()"
      ]
    },
    {
      "cell_type": "markdown",
      "metadata": {
        "id": "1PORjygDvLvQ"
      },
      "source": [
        "Then, get all the required property values for all entities."
      ]
    },
    {
      "cell_type": "code",
      "execution_count": null,
      "metadata": {
        "id": "PI_Ll2hdvSsw"
      },
      "outputs": [],
      "source": [
        "def get_data_prop(df, prop_list, sparql_endpoint):\n",
        "  \"\"\"\n",
        "  Query the property value given all the instances to be validated.\n",
        "\n",
        "  Parameters\n",
        "  ----------\n",
        "  df : DataFrame\n",
        "      A table containing all the instances to be validated\n",
        "  prop_list : list\n",
        "      A list of properties to be checked\n",
        "  window_size : int\n",
        "      A number of data instances used in one query\n",
        "  sparql_endpoint : str\n",
        "      A SPARQL API endpoint \n",
        "\n",
        "  Returns\n",
        "  -------\n",
        "  DataFrame\n",
        "      A table consisting of all the properties of instances along with their values\n",
        "  \"\"\"\n",
        "\n",
        "  # initiate the variables\n",
        "  size = df.shape[0]\n",
        "  list_data = []\n",
        "\n",
        "  for prop in prop_list:\n",
        "    for idx in tqdm(range(0, size, 50), desc=f\"Collecting values of {prop}\"):\n",
        "      try:\n",
        "        query = f\"\"\"\n",
        "SELECT ?s ?p ?o\n",
        "WHERE {{\n",
        "    VALUES ?s {{{' '.join(data['entity'][idx:idx+50]) }}}\n",
        "    BIND({prop} AS ?p)\n",
        "    ?s ?p ?o .\n",
        "}}\n",
        "\"\"\"\n",
        "        res = query_sparql(query, sparql_endpoint)\n",
        "        list_data.append(res)\n",
        "                \n",
        "      except:\n",
        "        print(\"Something wrong in collecting the data properties\")\n",
        "        break\n",
        "    \n",
        "  return pd.concat(list_data, ignore_index=True, sort=False)"
      ]
    },
    {
      "cell_type": "code",
      "execution_count": null,
      "metadata": {
        "id": "w9iQKcxvvUe0"
      },
      "outputs": [],
      "source": [
        "# SPARQL endpoint URL i.e. http://dbpedia.org/sparql\n",
        "endpoint = \"http://dbpedia.org/sparql\"\n",
        "\n",
        "# list all the property to be checked, i.e. rdfs:label\n",
        "prop_list = ['rdfs:label', 'rdfs:comment']\n",
        "\n",
        "# execute the query to get all the property value\n",
        "data_prop = get_data_prop(data, prop_list, endpoint)"
      ]
    },
    {
      "cell_type": "markdown",
      "metadata": {
        "id": "a940VC9LfY4y"
      },
      "source": [
        "Construct data graph from the data in the previous steps."
      ]
    },
    {
      "cell_type": "code",
      "execution_count": null,
      "metadata": {
        "id": "kqnPeXkBcv1X"
      },
      "outputs": [],
      "source": [
        "# handle NaN values in language attribute\n",
        "# if there is no column \"o.xml:lang\", just skip it\n",
        "data_prop[['o.xml:lang']] = data_prop[['o.xml:lang']].fillna('not specified')\n",
        "\n",
        "# convert data into data graph\n",
        "data_graph = Graph()\n",
        "\n",
        "# add default namespaces\n",
        "dbo_prefix = Namespace(\"http://dbpedia.org/ontology/\")\n",
        "wd_prefix = Namespace(\"http://www.wikidata.org/entity/\")\n",
        "data_graph.bind(\"dbo\", dbo_prefix)\n",
        "data_graph.bind(\"wd\", wd_prefix)\n",
        "\n",
        "# add instance relation for all entities\n",
        "# only used for checking with target for a certain class\n",
        "# if not, just skip it\n",
        "for _, row in data.iterrows():\n",
        "  s = URIRef(row['entity.value'])\n",
        "  p = URIRef('http://www.w3.org/1999/02/22-rdf-syntax-ns#type')\n",
        "  o = URIRef('http://dbpedia.org/ontology/Country')               # can be changed as needed \n",
        "  data_graph.add((s, p, o))\n",
        "\n",
        "# add node-property relation for all entities\n",
        "for _, row in data_prop.iterrows():\n",
        "  s = URIRef(row['s.value'])\n",
        "  p = URIRef(row['p.value'])\n",
        "  if row['o.type'] == 'literal':\n",
        "    if row['o.xml:lang'] == 'not specified':\n",
        "      o = o = Literal(row['o.value'])\n",
        "    else:\n",
        "      o = Literal(row['o.value'], lang=row['o.xml:lang'])\n",
        "  elif row['o.type'] == 'typed-literal':\n",
        "    o = Literal(row['o.value'], datatype=row['o.datatype'])\n",
        "  else:\n",
        "    o = URIRef(row['o.value'])\n",
        "  data_graph.add((s, p, o))\n",
        "\n",
        "# save the data graph\n",
        "# the destination path can be changed as needed\n",
        "data_graph.serialize(destination=\"data_graph.ttl\", format='turtle')"
      ]
    },
    {
      "cell_type": "markdown",
      "metadata": {
        "id": "Z6HFH90e0UB3"
      },
      "source": [
        "# Shapes Generation"
      ]
    },
    {
      "cell_type": "markdown",
      "metadata": {
        "id": "rZqHzQFqvZkl"
      },
      "source": [
        "## Manual"
      ]
    },
    {
      "cell_type": "code",
      "execution_count": null,
      "metadata": {
        "id": "oT5EzkFL0g8-"
      },
      "outputs": [],
      "source": [
        "shapes_graph = \\\n",
        "\"\"\"\n",
        "...\n",
        "\"\"\"\n",
        "\n",
        "# example: the shapes graph to check all instances of Country class should\n",
        "# have a label and description property\n",
        "shapes_graph = \\\n",
        "\"\"\"\n",
        "@prefix : <http://example.org/ns#> .\n",
        "@prefix dash: <http://datashapes.org/dash#> .\n",
        "@prefix dbo: <http://dbpedia.org/ontology/> .\n",
        "@prefix dbp: <http://dbpedia.org/property/> .\n",
        "@prefix dbr: <http://dbpedia.org/resource/> .\n",
        "@prefix dct: <http://purl.org/dc/terms/> .\n",
        "@prefix ex: <http://example.org/ns#> .\n",
        "@prefix foaf: <http://xmlns.com/foaf/0.1/> .\n",
        "@prefix geo: <http://www.opengis.net/ont/geosparql#> .\n",
        "@prefix owl: <http://www.w3.org/2002/07/owl#> .\n",
        "@prefix rdf: <http://www.w3.org/1999/02/22-rdf-syntax-ns#> .\n",
        "@prefix rdfs: <http://www.w3.org/2000/01/rdf-schema#> .\n",
        "@prefix schema: <http://schema.org/> .\n",
        "@prefix sh: <http://www.w3.org/ns/shacl#> .\n",
        "@prefix skos: <http://www.w3.org/2004/02/skos/core#> .\n",
        "@prefix xsd: <http://www.w3.org/2001/XMLSchema#> .\n",
        "@prefix wd: <http://www.wikidata.org/entity/> .\n",
        "@prefix wdt: <http://www.wikidata.org/prop/direct/> .\n",
        "\n",
        "ex:CountryLabelDescriptionShape\n",
        "    a sh:NodeShape;\n",
        "    sh:targetClass dbo:Country ;\n",
        "    sh:property [\n",
        "        sh:path rdfs:label ;\n",
        "        sh:minCount 1 ;\n",
        "    ] ;\n",
        "    sh:property [\n",
        "        sh:path rdfs:comment ;\n",
        "        sh:minCount 1 ;\n",
        "    ] .\n",
        "\"\"\""
      ]
    },
    {
      "cell_type": "code",
      "execution_count": null,
      "metadata": {
        "id": "AWKyRTKdTmRT"
      },
      "outputs": [],
      "source": [
        "# save the shapes graph\n",
        "# the filename can be changed as needed\n",
        "with open(\"shapes_graph.ttl\", \"w\") as text_file:\n",
        "    print(shapes_graph, file=text_file)\n",
        "\n",
        "# load the shapes graph\n",
        "shapes_graph = Graph()\n",
        "shapes_graph.parse(\"shape_graph.ttl\")"
      ]
    },
    {
      "cell_type": "markdown",
      "metadata": {
        "id": "IznZPLm9vbb4"
      },
      "source": [
        "## Automated"
      ]
    },
    {
      "cell_type": "code",
      "execution_count": null,
      "metadata": {
        "id": "_w5ZMRFRvdIM"
      },
      "outputs": [],
      "source": [
        "prefixes = \"\"\"\n",
        "@prefix : <http://example.org/ns#> .\n",
        "@prefix dash: <http://datashapes.org/dash#> .\n",
        "@prefix dbc: <http://dbpedia.org/resource/Category:> .\n",
        "@prefix dbo: <http://dbpedia.org/ontology/> .\n",
        "@prefix dbp: <http://dbpedia.org/property/> .\n",
        "@prefix dbr: <http://dbpedia.org/resource/> .\n",
        "@prefix dct: <http://purl.org/dc/terms/> .\n",
        "@prefix ex: <http://example.org/ns#> .\n",
        "@prefix foaf: <http://xmlns.com/foaf/0.1/> .\n",
        "@prefix geo: <http://www.opengis.net/ont/geosparql#> .\n",
        "@prefix owl: <http://www.w3.org/2002/07/owl#> .\n",
        "@prefix person: <http://dbpedia.org/ontology/Person> .\n",
        "@prefix rdf: <http://www.w3.org/1999/02/22-rdf-syntax-ns#> .\n",
        "@prefix rdfs: <http://www.w3.org/2000/01/rdf-schema#> .\n",
        "@prefix schema: <http://schema.org/> .\n",
        "@prefix sh: <http://www.w3.org/ns/shacl#> .\n",
        "@prefix skos: <http://www.w3.org/2004/02/skos/core#> .\n",
        "@prefix sock: <https://cs.ui.ac.id/ns/sock#> .\n",
        "@prefix xsd: <http://www.w3.org/2001/XMLSchema#> .\n",
        "@prefix wd: <http://www.wikidata.org/entity/> .\n",
        "@prefix wdt: <http://www.wikidata.org/prop/direct/> .\n",
        "\"\"\""
      ]
    },
    {
      "cell_type": "code",
      "execution_count": null,
      "metadata": {
        "id": "q8qy8a8VVTvy"
      },
      "outputs": [],
      "source": [
        "def construct_property_shape(props):\n",
        "  \"\"\"\n",
        "  Construct the property shape.\n",
        "\n",
        "  Parameters\n",
        "  ----------\n",
        "  props : list\n",
        "    A list of properties used to create property shape\n",
        "\n",
        "  Returns\n",
        "  -------\n",
        "  (str, list)\n",
        "    A string of property shapes, a list of property shapes' name\n",
        "  \"\"\"\n",
        "\n",
        "  # required variable initiation\n",
        "  list_prop_shape_name = []\n",
        "  property_shape = ''\n",
        "\n",
        "  # construct the property shape by iterates over props and props_label\n",
        "  for prop in props:\n",
        "\n",
        "    # clean the prop_label text\n",
        "    prop_label = prop[0].upper() + prop[1:]\n",
        "    property_shape_name = prop_label + \"PropertyShape\"\n",
        "\n",
        "    # property shape template\n",
        "    property_shape_pattern = \\\n",
        "f\"\"\"\n",
        "ex:{property_shape_name} a sh:PropertyShape ;\n",
        "    sh:path dbo:{prop} ;\n",
        "    sh:minCount 1 .\n",
        "\"\"\"\n",
        "\n",
        "    # property shape formatting\n",
        "    property_shape += property_shape_pattern\n",
        "    list_prop_shape_name.append(property_shape_name)\n",
        "\n",
        "  return property_shape, list_prop_shape_name"
      ]
    },
    {
      "cell_type": "code",
      "execution_count": null,
      "metadata": {
        "id": "kPgWq97IVoBS"
      },
      "outputs": [],
      "source": [
        "def construct_node_shape(cls, node_shape_name, list_prop_shape_name):\n",
        "  \"\"\"\n",
        "  Construct the node shape.\n",
        "\n",
        "  Parameters\n",
        "  ----------\n",
        "  cls : str\n",
        "    A class name as a node shape target \n",
        "  node_shape_name : str\n",
        "    A name for a node shape\n",
        "  list_prop_shape_name : list\n",
        "    A list of property shape name\n",
        "\n",
        "  Returns\n",
        "  -------\n",
        "  (str, str)\n",
        "    A string of node shape, a string of node shape's name\n",
        "  \"\"\"\n",
        "\n",
        "  # revise the properties by adding their prefixes\n",
        "  list_property_shape = ['ex:' + prop for prop in list_prop_shape_name]\n",
        "  list_property_shape = ', \\n\\t\\t'.join(list_property_shape)\n",
        "\n",
        "  # node shape template\n",
        "  node_shape = \\\n",
        "f\"\"\"\n",
        "ex:{node_shape_name}Shape\n",
        "    a sh:NodeShape ;\n",
        "    sh:targetClass dbo:{cls} ;\n",
        "    sh:property {list_property_shape} .\n",
        "\"\"\"\n",
        "\n",
        "  return node_shape, node_shape_name"
      ]
    },
    {
      "cell_type": "code",
      "execution_count": null,
      "metadata": {
        "id": "A3Up4Ct5WdbH"
      },
      "outputs": [],
      "source": [
        "# create property shape\n",
        "prop_list = [prop.split(\"/\")[-1] for prop in prop['p.value']]\n",
        "property_shape, list_prop_shape_name = construct_property_shape(prop_list)\n",
        "\n",
        "# create node_shape\n",
        "node_shape, node_shape_name = construct_node_shape(\"Country\",\n",
        "                                                   \"CountrySchemaShapes\",\n",
        "                                                   list_prop_shape_name)\n",
        "\n",
        "shapes_graph = prefixes + node_shape + property_shape\n",
        "\n",
        "# save the shapes graph, the filename can be changed as needed\n",
        "with open(\"shapes_graph.ttl\", \"w\") as text_file:\n",
        "    print(shapes_graph, file=text_file)"
      ]
    },
    {
      "cell_type": "markdown",
      "metadata": {
        "id": "-yAEa808td0R"
      },
      "source": [
        "## Automated Final"
      ]
    },
    {
      "cell_type": "code",
      "execution_count": null,
      "metadata": {
        "id": "X64BK4l1tgud"
      },
      "outputs": [],
      "source": [
        "prefixes = \"\"\"\n",
        "@prefix : <http://example.org/ns#> .\n",
        "@prefix dash: <http://datashapes.org/dash#> .\n",
        "@prefix dbc: <http://dbpedia.org/resource/Category:> .\n",
        "@prefix dbo: <http://dbpedia.org/ontology/> .\n",
        "@prefix dbp: <http://dbpedia.org/property/> .\n",
        "@prefix dbr: <http://dbpedia.org/resource/> .\n",
        "@prefix dct: <http://purl.org/dc/terms/> .\n",
        "@prefix ex: <http://example.org/ns#> .\n",
        "@prefix foaf: <http://xmlns.com/foaf/0.1/> .\n",
        "@prefix geo: <http://www.opengis.net/ont/geosparql#> .\n",
        "@prefix owl: <http://www.w3.org/2002/07/owl#> .\n",
        "@prefix person: <http://dbpedia.org/ontology/Person> .\n",
        "@prefix rdf: <http://www.w3.org/1999/02/22-rdf-syntax-ns#> .\n",
        "@prefix rdfs: <http://www.w3.org/2000/01/rdf-schema#> .\n",
        "@prefix schema: <http://schema.org/> .\n",
        "@prefix sh: <http://www.w3.org/ns/shacl#> .\n",
        "@prefix skos: <http://www.w3.org/2004/02/skos/core#> .\n",
        "@prefix sock: <https://cs.ui.ac.id/ns/sock#> .\n",
        "@prefix xsd: <http://www.w3.org/2001/XMLSchema#> .\n",
        "@prefix wd: <http://www.wikidata.org/entity/> .\n",
        "@prefix wdt: <http://www.wikidata.org/prop/direct/> .\n",
        "\"\"\""
      ]
    },
    {
      "cell_type": "code",
      "execution_count": null,
      "metadata": {
        "id": "c9H-E4yYtm6c"
      },
      "outputs": [],
      "source": [
        "def construct_node_shape(node_shape_name, target, is_class_target=True):\n",
        "  \"\"\"\n",
        "  Construct the node shape.\n",
        "\n",
        "  Parameters\n",
        "  ----------\n",
        "  node_shape_name : str\n",
        "    A name for a node shape\n",
        "  target : str\n",
        "    An IRI as a target of node shape \n",
        "  is_class_target : bool, optional\n",
        "    A boolean value to determine the use of target class or target node (default is True)\n",
        "\n",
        "  Returns\n",
        "  -------\n",
        "  str\n",
        "    A node shape in a type of string\n",
        "  \"\"\"\n",
        "\n",
        "  if is_class_target:\n",
        "    return f\"\"\"\n",
        "ex:{node_shape_name}\n",
        "    a sh:NodeShape ;\n",
        "    sh:targetClass {target} ;\n",
        "\"\"\"\n",
        "  return f\"\"\"\n",
        "ex:{node_shape_name}\n",
        "    a sh:NodeShape ;\n",
        "    sh:targetNode {target} ;\n",
        "\"\"\""
      ]
    },
    {
      "cell_type": "code",
      "execution_count": null,
      "metadata": {
        "id": "7M0MCyOPtjDV"
      },
      "outputs": [],
      "source": [
        "def construct_property_shape(df, prop_col, card_col):\n",
        "  \"\"\"\n",
        "  Construct the property shape.\n",
        "\n",
        "  Parameters\n",
        "  ----------\n",
        "  df : DataFrame\n",
        "    A name for a node shape\n",
        "  prop_col : str\n",
        "    A column name of a property \n",
        "  card_col : str\n",
        "    A column name of a property's cardinality\n",
        "\n",
        "  Returns\n",
        "  -------\n",
        "  str\n",
        "    A property shape in a type of string\n",
        "  \"\"\"\n",
        "\n",
        "  property_shape = \"\"\n",
        "\n",
        "  for idx, row in df.iterrows():\n",
        "    shape = f\"\"\"\n",
        "sh:property [ a sh:PropertyShape;\n",
        "        sh:path <{row[prop_col]}>;\n",
        "        sh:minCount {row[card_col]} ];\n",
        "\"\"\"\n",
        "    property_shape += '    ' + shape[1:]\n",
        "\n",
        "  # correct the last symbol\n",
        "  property_shape = property_shape[:-2] + '.'\n",
        "\n",
        "  return property_shape"
      ]
    },
    {
      "cell_type": "code",
      "execution_count": null,
      "metadata": {
        "id": "1G5M_ZhwtoJ4"
      },
      "outputs": [],
      "source": [
        "def construct_shapes_graph(node_shape_name, df, prop_col, card_col, target, is_class_target=True):\n",
        "  \"\"\"\n",
        "  Construct the property shape.\n",
        "\n",
        "  Parameters\n",
        "  ----------\n",
        "  node_shape_name : str\n",
        "    A name for a node shape\n",
        "  df : DataFrame\n",
        "    A name for a node shape\n",
        "  prop_col : str\n",
        "    A column name of a property \n",
        "  card_col : str\n",
        "    A column name of a property's cardinality\n",
        "  target : str\n",
        "    An IRI as a target of node shape \n",
        "  is_class_target : bool, optional\n",
        "    A boolean value to determine the use of target class or target node (default is True)\n",
        "\n",
        "  Returns\n",
        "  -------\n",
        "  str\n",
        "    A shapes shape in a type of string\n",
        "  \"\"\"\n",
        "\n",
        "  # create node shape\n",
        "  node_shape = construct_node_shape(node_shape_name, target, is_class_target)\n",
        "\n",
        "  # choose a column to be a property\n",
        "  if prop_col is None:\n",
        "    prop_col = df.columns.tolist()[0]\n",
        "\n",
        "  # choose a column to be a cardinality of a property\n",
        "  if card_col is None:\n",
        "    card_col = df.columns.tolist()[1]\n",
        "\n",
        "  # create property shape\n",
        "  property_shape = construct_property_shape(df, prop_col, card_col)\n",
        "\n",
        "  # merge property shape with node shape\n",
        "  shapes_graph = prefixes[1:] + node_shape + '    ' +property_shape[1:]\n",
        "\n",
        "  return shapes_graph"
      ]
    },
    {
      "cell_type": "code",
      "execution_count": null,
      "metadata": {
        "colab": {
          "base_uri": "https://localhost:8080/"
        },
        "id": "C5L1hIbDzYoi",
        "outputId": "fa33cc83-4fe0-4f0c-d72e-6105ac988d8b"
      },
      "outputs": [
        {
          "name": "stdout",
          "output_type": "stream",
          "text": [
            "@prefix : <http://example.org/ns#> .\n",
            "@prefix dash: <http://datashapes.org/dash#> .\n",
            "@prefix dbc: <http://dbpedia.org/resource/Category:> .\n",
            "@prefix dbo: <http://dbpedia.org/ontology/> .\n",
            "@prefix dbp: <http://dbpedia.org/property/> .\n",
            "@prefix dbr: <http://dbpedia.org/resource/> .\n",
            "@prefix dct: <http://purl.org/dc/terms/> .\n",
            "@prefix ex: <http://example.org/ns#> .\n",
            "@prefix foaf: <http://xmlns.com/foaf/0.1/> .\n",
            "@prefix geo: <http://www.opengis.net/ont/geosparql#> .\n",
            "@prefix owl: <http://www.w3.org/2002/07/owl#> .\n",
            "@prefix person: <http://dbpedia.org/ontology/Person> .\n",
            "@prefix rdf: <http://www.w3.org/1999/02/22-rdf-syntax-ns#> .\n",
            "@prefix rdfs: <http://www.w3.org/2000/01/rdf-schema#> .\n",
            "@prefix schema: <http://schema.org/> .\n",
            "@prefix sh: <http://www.w3.org/ns/shacl#> .\n",
            "@prefix skos: <http://www.w3.org/2004/02/skos/core#> .\n",
            "@prefix sock: <https://cs.ui.ac.id/ns/sock#> .\n",
            "@prefix xsd: <http://www.w3.org/2001/XMLSchema#> .\n",
            "@prefix wd: <http://www.wikidata.org/entity/> .\n",
            "@prefix wdt: <http://www.wikidata.org/prop/direct/> .\n",
            "\n",
            "ex:HotelShape\n",
            "    a sh:NodeShape ;\n",
            "    sh:targetClass dbo:Hotel ;\n",
            "       sh:property [ a sh:PropertyShape;\n",
            "        sh:path <http://dbpedia.org/ontology/numberOfParkingSpaces>;\n",
            "        sh:minCount 1 ];\n",
            "    sh:property [ a sh:PropertyShape;\n",
            "        sh:path <http://dbpedia.org/ontology/numberOfRestaurants>;\n",
            "        sh:minCount 1 ];\n",
            "    sh:property [ a sh:PropertyShape;\n",
            "        sh:path <http://dbpedia.org/ontology/numberOfSuites>;\n",
            "        sh:minCount 1 ];\n",
            "    sh:property [ a sh:PropertyShape;\n",
            "        sh:path <http://dbpedia.org/ontology/starRating>;\n",
            "        sh:minCount 1 ].\n"
          ]
        }
      ],
      "source": [
        "print(construct_shapes_graph(\"HotelShape\", df, \"prop.value\", \"cardinality\", \"dbo:Hotel\"))"
      ]
    },
    {
      "cell_type": "markdown",
      "metadata": {
        "id": "EHpU8K0GqW1c"
      },
      "source": [
        "## Spreadsheet"
      ]
    },
    {
      "cell_type": "code",
      "execution_count": null,
      "metadata": {
        "id": "PFYMK3RfqY2S"
      },
      "outputs": [],
      "source": [
        "# load a spreadsheet file in a format of CSV\n",
        "# the filename can be changed as needed\n",
        "df = pd.read_csv(\"spreadsheet-data.csv\")"
      ]
    },
    {
      "cell_type": "markdown",
      "metadata": {
        "id": "hWQySwW7qZKZ"
      },
      "source": [
        "## Ontology"
      ]
    },
    {
      "cell_type": "code",
      "execution_count": null,
      "metadata": {
        "id": "ZEgHKg7uqajY"
      },
      "outputs": [],
      "source": [
        "def get_property_by_ontology(class_name):\n",
        "  \"\"\"\n",
        "  Get all the desired properties of a class by an ontological approach.\n",
        "\n",
        "  Parameters\n",
        "  ----------\n",
        "  class_name : str\n",
        "    A name of a class \n",
        "\n",
        "  Returns\n",
        "  -------\n",
        "  DataFrame\n",
        "    A table consisting of the desired properties\n",
        "  \"\"\"\n",
        "\n",
        "  query = f\"\"\"\n",
        "SELECT DISTINCT ?prop\n",
        "WHERE {{\n",
        "  ?prop rdfs:domain {class_name} .\n",
        "}}\n",
        "\"\"\"\n",
        "\n",
        "  prop_df = query_sparql(query, \"http://dbpedia.org/sparql\")\n",
        "  prop_df['cardinality'] = 1\n",
        "\n",
        "  return prop_df"
      ]
    },
    {
      "cell_type": "code",
      "execution_count": null,
      "metadata": {
        "colab": {
          "base_uri": "https://localhost:8080/",
          "height": 175
        },
        "id": "VAqckT3EzH-b",
        "outputId": "14b8fba9-f561-4816-d293-d771112b1786"
      },
      "outputs": [
        {
          "data": {
            "text/html": [
              "\n",
              "  <div id=\"df-a0594e99-ff95-4e6b-ab98-c696d949609b\">\n",
              "    <div class=\"colab-df-container\">\n",
              "      <div>\n",
              "<style scoped>\n",
              "    .dataframe tbody tr th:only-of-type {\n",
              "        vertical-align: middle;\n",
              "    }\n",
              "\n",
              "    .dataframe tbody tr th {\n",
              "        vertical-align: top;\n",
              "    }\n",
              "\n",
              "    .dataframe thead th {\n",
              "        text-align: right;\n",
              "    }\n",
              "</style>\n",
              "<table border=\"1\" class=\"dataframe\">\n",
              "  <thead>\n",
              "    <tr style=\"text-align: right;\">\n",
              "      <th></th>\n",
              "      <th>prop.type</th>\n",
              "      <th>prop.value</th>\n",
              "      <th>cardinality</th>\n",
              "    </tr>\n",
              "  </thead>\n",
              "  <tbody>\n",
              "    <tr>\n",
              "      <th>0</th>\n",
              "      <td>uri</td>\n",
              "      <td>http://dbpedia.org/ontology/numberOfParkingSpaces</td>\n",
              "      <td>1</td>\n",
              "    </tr>\n",
              "    <tr>\n",
              "      <th>1</th>\n",
              "      <td>uri</td>\n",
              "      <td>http://dbpedia.org/ontology/numberOfRestaurants</td>\n",
              "      <td>1</td>\n",
              "    </tr>\n",
              "    <tr>\n",
              "      <th>2</th>\n",
              "      <td>uri</td>\n",
              "      <td>http://dbpedia.org/ontology/numberOfSuites</td>\n",
              "      <td>1</td>\n",
              "    </tr>\n",
              "    <tr>\n",
              "      <th>3</th>\n",
              "      <td>uri</td>\n",
              "      <td>http://dbpedia.org/ontology/starRating</td>\n",
              "      <td>1</td>\n",
              "    </tr>\n",
              "  </tbody>\n",
              "</table>\n",
              "</div>\n",
              "      <button class=\"colab-df-convert\" onclick=\"convertToInteractive('df-a0594e99-ff95-4e6b-ab98-c696d949609b')\"\n",
              "              title=\"Convert this dataframe to an interactive table.\"\n",
              "              style=\"display:none;\">\n",
              "        \n",
              "  <svg xmlns=\"http://www.w3.org/2000/svg\" height=\"24px\"viewBox=\"0 0 24 24\"\n",
              "       width=\"24px\">\n",
              "    <path d=\"M0 0h24v24H0V0z\" fill=\"none\"/>\n",
              "    <path d=\"M18.56 5.44l.94 2.06.94-2.06 2.06-.94-2.06-.94-.94-2.06-.94 2.06-2.06.94zm-11 1L8.5 8.5l.94-2.06 2.06-.94-2.06-.94L8.5 2.5l-.94 2.06-2.06.94zm10 10l.94 2.06.94-2.06 2.06-.94-2.06-.94-.94-2.06-.94 2.06-2.06.94z\"/><path d=\"M17.41 7.96l-1.37-1.37c-.4-.4-.92-.59-1.43-.59-.52 0-1.04.2-1.43.59L10.3 9.45l-7.72 7.72c-.78.78-.78 2.05 0 2.83L4 21.41c.39.39.9.59 1.41.59.51 0 1.02-.2 1.41-.59l7.78-7.78 2.81-2.81c.8-.78.8-2.07 0-2.86zM5.41 20L4 18.59l7.72-7.72 1.47 1.35L5.41 20z\"/>\n",
              "  </svg>\n",
              "      </button>\n",
              "      \n",
              "  <style>\n",
              "    .colab-df-container {\n",
              "      display:flex;\n",
              "      flex-wrap:wrap;\n",
              "      gap: 12px;\n",
              "    }\n",
              "\n",
              "    .colab-df-convert {\n",
              "      background-color: #E8F0FE;\n",
              "      border: none;\n",
              "      border-radius: 50%;\n",
              "      cursor: pointer;\n",
              "      display: none;\n",
              "      fill: #1967D2;\n",
              "      height: 32px;\n",
              "      padding: 0 0 0 0;\n",
              "      width: 32px;\n",
              "    }\n",
              "\n",
              "    .colab-df-convert:hover {\n",
              "      background-color: #E2EBFA;\n",
              "      box-shadow: 0px 1px 2px rgba(60, 64, 67, 0.3), 0px 1px 3px 1px rgba(60, 64, 67, 0.15);\n",
              "      fill: #174EA6;\n",
              "    }\n",
              "\n",
              "    [theme=dark] .colab-df-convert {\n",
              "      background-color: #3B4455;\n",
              "      fill: #D2E3FC;\n",
              "    }\n",
              "\n",
              "    [theme=dark] .colab-df-convert:hover {\n",
              "      background-color: #434B5C;\n",
              "      box-shadow: 0px 1px 3px 1px rgba(0, 0, 0, 0.15);\n",
              "      filter: drop-shadow(0px 1px 2px rgba(0, 0, 0, 0.3));\n",
              "      fill: #FFFFFF;\n",
              "    }\n",
              "  </style>\n",
              "\n",
              "      <script>\n",
              "        const buttonEl =\n",
              "          document.querySelector('#df-a0594e99-ff95-4e6b-ab98-c696d949609b button.colab-df-convert');\n",
              "        buttonEl.style.display =\n",
              "          google.colab.kernel.accessAllowed ? 'block' : 'none';\n",
              "\n",
              "        async function convertToInteractive(key) {\n",
              "          const element = document.querySelector('#df-a0594e99-ff95-4e6b-ab98-c696d949609b');\n",
              "          const dataTable =\n",
              "            await google.colab.kernel.invokeFunction('convertToInteractive',\n",
              "                                                     [key], {});\n",
              "          if (!dataTable) return;\n",
              "\n",
              "          const docLinkHtml = 'Like what you see? Visit the ' +\n",
              "            '<a target=\"_blank\" href=https://colab.research.google.com/notebooks/data_table.ipynb>data table notebook</a>'\n",
              "            + ' to learn more about interactive tables.';\n",
              "          element.innerHTML = '';\n",
              "          dataTable['output_type'] = 'display_data';\n",
              "          await google.colab.output.renderOutput(dataTable, element);\n",
              "          const docLink = document.createElement('div');\n",
              "          docLink.innerHTML = docLinkHtml;\n",
              "          element.appendChild(docLink);\n",
              "        }\n",
              "      </script>\n",
              "    </div>\n",
              "  </div>\n",
              "  "
            ],
            "text/plain": [
              "  prop.type                                         prop.value  cardinality\n",
              "0       uri  http://dbpedia.org/ontology/numberOfParkingSpaces            1\n",
              "1       uri    http://dbpedia.org/ontology/numberOfRestaurants            1\n",
              "2       uri         http://dbpedia.org/ontology/numberOfSuites            1\n",
              "3       uri             http://dbpedia.org/ontology/starRating            1"
            ]
          },
          "execution_count": 10,
          "metadata": {},
          "output_type": "execute_result"
        }
      ],
      "source": [
        "# example\n",
        "df = get_property_by_ontology(\"dbo:Hotel\")\n",
        "df"
      ]
    },
    {
      "cell_type": "markdown",
      "metadata": {
        "id": "ZYBecBvnqa1Y"
      },
      "source": [
        "## Statistics"
      ]
    },
    {
      "cell_type": "code",
      "execution_count": null,
      "metadata": {
        "id": "_XAGZG_DqfAE"
      },
      "outputs": [],
      "source": [
        "def get_property_by_statistics(class_name):\n",
        "  \"\"\"\n",
        "  Get all the desired properties of a class by an statistical approach.\n",
        "\n",
        "  Parameters\n",
        "  ----------\n",
        "  class_name : str\n",
        "    A name of a class \n",
        "\n",
        "  Returns\n",
        "  -------\n",
        "  DataFrame\n",
        "    A table consisting of the desired properties\n",
        "  \"\"\"\n",
        "\n",
        "  # get candidate properties\n",
        "  query = f\"\"\"\n",
        "SELECT DISTINCT ?p\n",
        "WHERE {{\n",
        "   ?s a {class_name} ;\n",
        "        ?p [] .\n",
        "    FILTER(isUri(?p) && STRSTARTS(STR(?p), STR(dbo:)))\n",
        "}}\n",
        "\"\"\"\n",
        "  candidate_prop = query_sparql(query, \"http://dbpedia.org/sparql\")\n",
        "\n",
        "\n",
        "  # get number of entities of a class\n",
        "  query = f\"\"\"\n",
        "SELECT (COUNT(DISTINCT ?entity) AS ?numOfEntities)\n",
        "WHERE {{\n",
        "  ?entity a {class_name} .\n",
        "}}\n",
        "\"\"\"\n",
        "  num_of_entities = int(query_sparql(query, \"http://dbpedia.org/sparql\").iloc[0,2])\n",
        "\n",
        "\n",
        "  # query the frequency of all the properties\n",
        "  list_rel_freq = []\n",
        "\n",
        "  for _, row in candidate_prop.iterrows():\n",
        "    prop = row['p.value']\n",
        "\n",
        "    query = f\"\"\"\n",
        "SELECT (COUNT(DISTINCT ?entity) AS ?numOfEntities)\n",
        "WHERE {{\n",
        "  ?entity a {class_name} ;\n",
        "          <{ prop }> [] .\n",
        "}}\n",
        "\"\"\"\n",
        "\n",
        "    # count the relative frequency\n",
        "    num_of_union = int(query_sparql(query, \"http://dbpedia.org/sparql\").iloc[0,2])\n",
        "    list_rel_freq.append(num_of_union / num_of_entities)\n",
        "\n",
        "\n",
        "  # arrange the result\n",
        "  prop = candidate_prop.copy()\n",
        "  prop['rel_freq'] = list_rel_freq\n",
        "  prop['cardinality'] = 1\n",
        "  prop.sort_values('rel_freq', ascending=False, inplace=True)\n",
        "  prop.reset_index(drop=True, inplace=True)\n",
        "\n",
        "  return prop.head(10)\n",
        "\n",
        "  # prop_df = pd.DataFrame({\n",
        "  #     'prop': list_rel_freq,\n",
        "  #     'cardinality': [1] * len(list_rel_freq),\n",
        "  # })"
      ]
    },
    {
      "cell_type": "code",
      "execution_count": null,
      "metadata": {
        "id": "A6A1YAVjvY6I"
      },
      "outputs": [],
      "source": [
        "# Example\n",
        "df = get_property_by_statistics(\"...\")\n",
        "df"
      ]
    },
    {
      "cell_type": "markdown",
      "metadata": {
        "id": "hg5SNjYv0hgl"
      },
      "source": [
        "# Data Validation"
      ]
    },
    {
      "cell_type": "code",
      "execution_count": null,
      "metadata": {
        "id": "yaPNonzjvrHA"
      },
      "outputs": [],
      "source": [
        "def validate_graph(shapes_graph, data_graph, is_advanced=False):\n",
        "  \"\"\"\n",
        "  Validate the data graph over the shapes graph with the SHACL engine provided by PySHACL.\n",
        "  \n",
        "  Parameters\n",
        "  ----------\n",
        "  shapes_graph : Graph\n",
        "    The shapes graph containing all the constraints\n",
        "  data_graph : Graph\n",
        "    The data graph containing all the instances to be validated along with their property values\n",
        "  is_advanced : boolean, optional\n",
        "    ...\n",
        "\n",
        "  Returns\n",
        "  -------\n",
        "  (bool, Graph, str)\n",
        "    value of conformation, validation report in the shape of a graph, and\n",
        "    validation report in the shape of a text\n",
        "  \"\"\"\n",
        "\n",
        "  result = validate(\n",
        "    data_graph = data_graph,\n",
        "    shacl_graph = shapes_graph,\n",
        "    advanced = is_advanced,\n",
        "    serialize_report_graph=\"ttl\",\n",
        "    )\n",
        "  \n",
        "  return result\n",
        "\n",
        "# validate the data graph\n",
        "conforms, report_graph, report_text = validate_graph(shapes_graph, data_graph)"
      ]
    },
    {
      "cell_type": "code",
      "execution_count": null,
      "metadata": {
        "id": "8lXjIlcnvvHH"
      },
      "outputs": [],
      "source": [
        "def create_report_validation(df, use_col, report_graph, prop_list):\n",
        "  report = Graph()\n",
        "  report.parse(data=report_graph)\n",
        "\n",
        "  # list all incompleteness\n",
        "  list_incomplete = []\n",
        "\n",
        "  for prop in prop_list:\n",
        "    report_query = f\"\"\"\n",
        "PREFIX dbo: <http://dbpedia.org/ontology/>\n",
        "SELECT ?focusNode\n",
        "WHERE {{\n",
        "[] <http://www.w3.org/ns/shacl#result> ?id .\n",
        "?id <http://www.w3.org/ns/shacl#focusNode> ?focusNode ;\n",
        "    <http://www.w3.org/ns/shacl#resultPath> {prop} .\n",
        "}}\n",
        "\"\"\"\n",
        "    res = report.query(report_query)\n",
        "\n",
        "    list_entities = []\n",
        "    for row in res:\n",
        "      list_entities.append([str(row.focusNode), 0])\n",
        "\n",
        "    list_incomplete.append(list_entities)\n",
        "\n",
        "  # convert to dict of incompleteness\n",
        "  validation = df[[use_col]]\n",
        "  incomplete_dict = dict()\n",
        "  for idx, prop in enumerate(prop_list):\n",
        "    incomplete_dict[f\"df_incomplete_{prop}\"] = pd.DataFrame(list_incomplete[idx], columns=[use_col, prop])\n",
        "\n",
        "  # merge the information\n",
        "  for key in incomplete_dict.keys():\n",
        "    validation = pd.merge(validation, incomplete_dict[key], on=use_col, how='left').fillna(1)\n",
        "\n",
        "  # summarize the completeness value of each entity\n",
        "  validation['complete_all'] = validation.iloc[:,1:].sum(axis=1) / len(prop_list)\n",
        "  return validation"
      ]
    },
    {
      "cell_type": "code",
      "execution_count": null,
      "metadata": {
        "id": "atd3gMmHeC3t"
      },
      "outputs": [],
      "source": [
        "# create the completeness validation report\n",
        "validation = create_report_validation(data, \"entity.value\", report_graph, prop_list)\n",
        "\n",
        "# save the report and the filename can be changed as needed\n",
        "validation.to_csv(\"validation_report.csv\", index=False)"
      ]
    },
    {
      "cell_type": "markdown",
      "metadata": {
        "id": "Th1hWKSD0mYR"
      },
      "source": [
        "# Visualization"
      ]
    },
    {
      "cell_type": "code",
      "execution_count": null,
      "metadata": {
        "id": "V2sXgYLY0qGn"
      },
      "outputs": [],
      "source": [
        "def create_completeness_info_viz(validation, prop_list, title):\n",
        "  \"\"\"\n",
        "  Visualize the result validation\n",
        "\n",
        "  Parameters\n",
        "  ----------\n",
        "  validation : DataFrame\n",
        "    A table consisting of validated instances\n",
        "  prop_list : list\n",
        "    A list of properties to be checked\n",
        "  title : str\n",
        "    A title to be shown in the chart\n",
        "  \"\"\"\n",
        "\n",
        "  # transform validation data into suitable one for the chart\n",
        "  res_list = []\n",
        "  for prop in prop_list:\n",
        "    res = validation[prop].value_counts(normalize=True).rename_axis('label').reset_index(name='percentage')\n",
        "    res['property'] = prop\n",
        "    res_list.append(res)\n",
        "\n",
        "  comp_summary = pd.concat(res_list, ignore_index=True, sort=False)\n",
        "\n",
        "  # transform value of 1 and 0\n",
        "  dict_map = {1: 'Complete', 0: 'Incomplete'}\n",
        "  comp_summary['label'] = comp_summary['label'].map(dict_map)\n",
        "\n",
        "  # create stacked bar plot\n",
        "  fig = px.bar(comp_summary,\n",
        "             x='percentage',\n",
        "             y='property',\n",
        "             color='label',\n",
        "             title=title)\n",
        "\n",
        "  # adjust plot layout\n",
        "  fig.update_layout(\n",
        "      autosize=False,\n",
        "      width=800,\n",
        "      height=100*len(prop_list) if len(prop_list) > 3 else 300,\n",
        "      xaxis = dict(\n",
        "          tickmode = 'array',\n",
        "          tickvals = [0, 0.2, 0.4, 0.6, 0.8, 1],\n",
        "          ticktext = ['0%', '20%', '40%', '60%', '80%', '100%']\n",
        "      ))\n",
        "\n",
        "  fig.show()\n",
        "\n",
        "# list all the property to be visualized\n",
        "prop_list = ['...']\n",
        "# prop_list = ['rdfs:label', 'rdfs:comment', 'dbo:abstract'] # example\n",
        "\n",
        "\n",
        "create_completeness_info_viz(validation,\n",
        "                             prop_list,\n",
        "                             '...',) # insert title"
      ]
    }
  ],
  "metadata": {
    "colab": {
      "collapsed_sections": [
        "Z6HFH90e0UB3",
        "rZqHzQFqvZkl",
        "IznZPLm9vbb4",
        "-yAEa808td0R",
        "EHpU8K0GqW1c",
        "hWQySwW7qZKZ",
        "ZYBecBvnqa1Y",
        "hg5SNjYv0hgl",
        "Th1hWKSD0mYR"
      ],
      "provenance": [],
      "toc_visible": true
    },
    "kernelspec": {
      "display_name": "Python 3.9.7 ('base')",
      "language": "python",
      "name": "python3"
    },
    "language_info": {
      "name": "python",
      "version": "3.9.7"
    },
    "vscode": {
      "interpreter": {
        "hash": "ed0a065699908a76d1f63ea425877a01a211586d41810a3b59ee05865e07dadd"
      }
    }
  },
  "nbformat": 4,
  "nbformat_minor": 0
}
